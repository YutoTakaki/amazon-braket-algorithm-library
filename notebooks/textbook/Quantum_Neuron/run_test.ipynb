{
 "cells": [
  {
   "cell_type": "code",
   "execution_count": 1,
   "id": "be8e8f0d",
   "metadata": {},
   "outputs": [
    {
     "name": "stdout",
     "output_type": "stream",
     "text": [
      "\u001b[1m============================= test session starts ==============================\u001b[0m\n",
      "platform linux -- Python 3.7.12, pytest-4.6.4, py-1.11.0, pluggy-0.13.1 -- /home/ec2-user/anaconda3/envs/Braket/bin/python\n",
      "cachedir: .pytest_cache\n",
      "rootdir: /home/ec2-user/SageMaker/amazon-braket-algorithm-library, inifile: setup.cfg\n",
      "collected 2 items                                                              \u001b[0m\u001b[1m\n",
      "\n",
      "test_quantum_neuron.py::test_linear_combination \n",
      "0: ──X─╭●──────────────────────────────────────┤     \n",
      "1: ────│─────────╭●────────────────────────────┤     \n",
      "2: ──X─│─────────│─────────╭●──────────────────┤     \n",
      "3: ────╰RY(0.24)─╰RY(0.97)─╰RY(1.36)──RY(0.10)─┤  <Z>\n",
      "z_expected_value: -0.13088\n",
      "\n",
      "theoritical_z_expected_value: -0.13088\n",
      "\n",
      "0: ────╭●────────────────────────────────────────────────┤     \n",
      "1: ──X─│─────────╭●──────────────────────────────────────┤     \n",
      "2: ────│─────────│─────────╭●────────────────────────────┤     \n",
      "3: ──X─│─────────│─────────│─────────╭●──────────────────┤     \n",
      "4: ────╰RY(0.07)─╰RY(0.31)─╰RY(0.79)─╰RY(1.29)──RY(0.10)─┤  <Z>\n",
      "z_expected_value: -0.13116\n",
      "\n",
      "theoritical_z_expected_value: -0.13116\n",
      "\n",
      "0: ────╭●──────────────────────────────────────────────────────────┤     \n",
      "1: ────│─────────╭●────────────────────────────────────────────────┤     \n",
      "2: ──X─│─────────│─────────╭●──────────────────────────────────────┤     \n",
      "3: ────│─────────│─────────│─────────╭●────────────────────────────┤     \n",
      "4: ──X─│─────────│─────────│─────────│─────────╭●──────────────────┤     \n",
      "5: ────╰RY(0.06)─╰RY(0.14)─╰RY(0.40)─╰RY(0.89)─╰RY(1.28)──RY(0.10)─┤  <Z>\n",
      "z_expected_value: -0.20478\n",
      "\n",
      "theoritical_z_expected_value: -0.20478\n",
      "\u001b[32mPASSED\u001b[0m\n",
      "test_quantum_neuron.py::test_quantum_neuron \n",
      "q_theta: 0.9181000628169432\n",
      "expected_q_theta: 0.9205739886726427\n",
      "\n",
      "q_theta: 0.9185355467979665\n",
      "expected_q_theta: 0.9167356239940488\n",
      "\n",
      "q_theta: 0.9914070072591556\n",
      "expected_q_theta: 0.9892466704720225\n",
      "\u001b[32mPASSED\u001b[0m\n",
      "\n",
      "\u001b[33m=============================== warnings summary ===============================\u001b[0m\n",
      "/home/ec2-user/anaconda3/envs/Braket/lib/python3.7/site-packages/networkx/readwrite/graphml.py:346\n",
      "  /home/ec2-user/anaconda3/envs/Braket/lib/python3.7/site-packages/networkx/readwrite/graphml.py:346: DeprecationWarning: `np.int` is a deprecated alias for the builtin `int`. To silence this warning, use `int` by itself. Doing this will not modify any behavior and is safe. When replacing `np.int`, you may wish to use e.g. `np.int64` or `np.int32` to specify the precision. If you wish to review your current use, check the release note link for additional information.\n",
      "  Deprecated in NumPy 1.20; for more details and guidance: https://numpy.org/devdocs/release/1.20.0-notes.html#deprecations\n",
      "    (np.int, \"int\"), (np.int8, \"int\"),\n",
      "\n",
      "/home/ec2-user/anaconda3/envs/Braket/lib/python3.7/site-packages/networkx/readwrite/gexf.py:223\n",
      "  /home/ec2-user/anaconda3/envs/Braket/lib/python3.7/site-packages/networkx/readwrite/gexf.py:223: DeprecationWarning: `np.int` is a deprecated alias for the builtin `int`. To silence this warning, use `int` by itself. Doing this will not modify any behavior and is safe. When replacing `np.int`, you may wish to use e.g. `np.int64` or `np.int32` to specify the precision. If you wish to review your current use, check the release note link for additional information.\n",
      "  Deprecated in NumPy 1.20; for more details and guidance: https://numpy.org/devdocs/release/1.20.0-notes.html#deprecations\n",
      "    (np.int, \"int\"), (np.int8, \"int\"),\n",
      "\n",
      "-- Docs: https://docs.pytest.org/en/latest/warnings.html\n",
      "\u001b[33m\u001b[1m===================== 2 passed, 2 warnings in 7.79 seconds =====================\u001b[0m\n"
     ]
    }
   ],
   "source": [
    "!pytest test_quantum_neuron.py -s"
   ]
  },
  {
   "cell_type": "code",
   "execution_count": null,
   "id": "74305562",
   "metadata": {},
   "outputs": [],
   "source": []
  }
 ],
 "metadata": {
  "kernelspec": {
   "display_name": "conda_braket",
   "language": "python",
   "name": "conda_braket"
  },
  "language_info": {
   "codemirror_mode": {
    "name": "ipython",
    "version": 3
   },
   "file_extension": ".py",
   "mimetype": "text/x-python",
   "name": "python",
   "nbconvert_exporter": "python",
   "pygments_lexer": "ipython3",
   "version": "3.7.12"
  }
 },
 "nbformat": 4,
 "nbformat_minor": 5
}
